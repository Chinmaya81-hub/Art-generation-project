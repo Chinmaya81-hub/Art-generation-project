{
  "nbformat": 4,
  "nbformat_minor": 0,
  "metadata": {
    "colab": {
      "provenance": [],
      "authorship_tag": "ABX9TyNOuMZ/yQJLoEM2WtQrz8Xs",
      "include_colab_link": true
    },
    "kernelspec": {
      "name": "python3",
      "display_name": "Python 3"
    },
    "language_info": {
      "name": "python"
    }
  },
  "cells": [
    {
      "cell_type": "markdown",
      "metadata": {
        "id": "view-in-github",
        "colab_type": "text"
      },
      "source": [
        "<a href=\"https://colab.research.google.com/github/Chinmaya81-hub/Art-generation-project/blob/main/Guess_the_number.ipynb\" target=\"_parent\"><img src=\"https://colab.research.google.com/assets/colab-badge.svg\" alt=\"Open In Colab\"/></a>"
      ]
    },
    {
      "cell_type": "markdown",
      "source": [
        "Most beginner programmers as well as seasoned developers want to put their skills to the test by trying out various projects to enhance their skills. As well as widen their views on numerous points of view programming and problem-solving. Among the most tried projects or tasks is creating a “Guess the Number Python” game. This program will utilize just but one python module.\n",
        "\n",
        "\n",
        "So, in “Guess the Number Python” we first have to import the random module from python’s inbuilt libraries\n",
        "\n"
      ],
      "metadata": {
        "id": "i9DkzKkpnytl"
      }
    },
    {
      "cell_type": "code",
      "source": [
        "#Import random module\n",
        "import random"
      ],
      "metadata": {
        "id": "zLF4NVbhn2za"
      },
      "execution_count": 2,
      "outputs": []
    },
    {
      "cell_type": "markdown",
      "source": [
        "This module will be used in selecting a number between a defined set or range. We now need to select a range between which the user is to guess a number. To do this, the user inputs a number; a lower limit and an upper limit."
      ],
      "metadata": {
        "id": "RAwgjnmYn-6v"
      }
    },
    {
      "cell_type": "code",
      "source": [
        "#Choose an upper limit and a lower limit.\n",
        "#Use the int function to ensure the value entered is an integer.\n",
        "upper_limit = int(input(\"Enter upper limit: \"))\n",
        "lower_limit = int(input(\"Enter lower limit: \"))"
      ],
      "metadata": {
        "colab": {
          "base_uri": "https://localhost:8080/"
        },
        "id": "pBjvGGtioKEt",
        "outputId": "f1696e43-2b52-4c81-ebe4-698534d4b49a"
      },
      "execution_count": 3,
      "outputs": [
        {
          "name": "stdout",
          "output_type": "stream",
          "text": [
            "Enter upper limit: 100\n",
            "Enter lower limit: 10\n"
          ]
        }
      ]
    },
    {
      "cell_type": "markdown",
      "source": [
        "After getting the upper limit and the lower limit within which a random number will be selected, we pick a random number using a function from the random module.\n",
        "\n",
        "The user is then assigned a number of chances to guess a number which will be a counter for a loop. We use a while loop since the user can get the right guess at any trial. The while case will check if the user has guessed the right number and if so, exits the loop. If not the number of chances decrements by one until the user has no more chances and the random number is revealed to him.\n",
        "\n",
        "To ensure that the program runs continuously and doesn’t close the program window, we add a true statement and print a line to separate the blocks.\n"
      ],
      "metadata": {
        "id": "3UEm8IjToiWF"
      }
    },
    {
      "cell_type": "code",
      "source": [
        "# We select a number randomly and store it in variable\n",
        "# The function takes the upper limit and the lower limit as parameters and picks a number between the two numbers.\n",
        "# In python, variables can be declared and assigned at the same time\n",
        "random_number = random.randint(lower_limit, upper_limit)\n",
        "print(\"You will have to choose a number between \", upper_limit, \" and \", lower_limit)\n",
        "\n",
        "# We assign a variable \"Chances\" that will act as the counter for a loop\n",
        "# The user will have to input his guess so we assign his guess into a variable.\n",
        "chances = 0\n",
        "while chances < 8:\n",
        "    chances += 1\n",
        "    guess = int(input(\"Enter your guess: \"))\n",
        "    if random_number == guess:\n",
        "        print(\"Congragulations, you did it. The number was \", random_number)\n",
        "        break\n",
        "    elif guess < random_number:\n",
        "        print(\"You guessed a small number.\")\n",
        "    elif guess > random_number:\n",
        "        print(\"You guessed a large number.\")\n",
        "    if chances == 7:\n",
        "        print(\"\\n You've run out of chances\")\n",
        "        print(\"\\n The number was \", random_number)\n",
        "        print(\"Better luck next time\")\n",
        "        break\n",
        "print(\"\\n\")\n",
        "break"
      ],
      "metadata": {
        "colab": {
          "base_uri": "https://localhost:8080/"
        },
        "id": "JgTXKhKLon92",
        "outputId": "28ddfa24-7ad6-4d11-acf3-20a4afa7a63c"
      },
      "execution_count": null,
      "outputs": [
        {
          "output_type": "stream",
          "name": "stdout",
          "text": [
            "You will have to choose a number between  100  and  10\n",
            "Enter your guess: 56\n",
            "You guessed a large number.\n",
            "Enter your guess: 11\n",
            "You guessed a small number.\n"
          ]
        }
      ]
    },
    {
      "cell_type": "code",
      "source": [],
      "metadata": {
        "id": "Vztcpv-UqSg1"
      },
      "execution_count": null,
      "outputs": []
    }
  ]
}